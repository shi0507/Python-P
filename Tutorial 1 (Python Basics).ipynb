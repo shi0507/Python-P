{
 "cells": [
  {
   "cell_type": "markdown",
   "metadata": {},
   "source": [
    "# Python Tutorial-1\n",
    " - Datatypes\n",
    "\n",
    "# Why python is best for Machine Learning?\n",
    "\n",
    "- Easy to use : Easy to learn, easy to work with, used in most corporate areas, less lines of code as compared to other programming languages.\n",
    "\n",
    "- Has Multiple Libraries and frameworks: Python is an Open Source Programming Language, has hundreds of libraries with different frameworks.\n",
    "\n",
    "\n",
    "### Some libraries of Python\n",
    "\n",
    "   - Numpy\n",
    "   - Pandas\n",
    "   - Scikit-learn\n",
    "\n",
    "\n",
    "   - Numpy  :  Used for creating Multidimensional arrays(To perform various    operations within the array Numpy can be used).\n",
    "\n",
    "   - Pandas  : Libraries help you to read from different data sources so that you can retrieve data and with the help of data frames and data series you can perform various kind of operations.\n",
    "\n",
    "   - Scikit- learn  :  Most popular, most of the  ML algorithms(Supervised and Unsupervised are present here(you will be calling any algorithm and will be using it in your problem statement).\n",
    "   \n",
    "   \n",
    "- Python Frameworks (TensorFlow, Keras, Pytorch) used in Deep Learning also.\n",
    "\n",
    "- Python is used for creating Web based Applications, Web Services, Web Scrapping.\n",
    "\n",
    "- Python has community and corporate support : Currently used by various coropo firms extensively.\n",
    "\n",
    "\n"
   ]
  },
  {
   "cell_type": "code",
   "execution_count": 7,
   "metadata": {},
   "outputs": [
    {
     "data": {
      "text/plain": [
       "100"
      ]
     },
     "execution_count": 7,
     "metadata": {},
     "output_type": "execute_result"
    }
   ],
   "source": [
    "#power\n",
    "10**2"
   ]
  },
  {
   "cell_type": "code",
   "execution_count": 2,
   "metadata": {},
   "outputs": [
    {
     "data": {
      "text/plain": [
       "'pythonpythonpythonpythonpythonpythonpythonpythonpythonpython'"
      ]
     },
     "execution_count": 2,
     "metadata": {},
     "output_type": "execute_result"
    }
   ],
   "source": [
    "  10*'python'"
   ]
  },
  {
   "cell_type": "code",
   "execution_count": 3,
   "metadata": {},
   "outputs": [],
   "source": [
    " #Check for datatypes using inbuilt function- 'type()'"
   ]
  },
  {
   "cell_type": "code",
   "execution_count": 4,
   "metadata": {},
   "outputs": [
    {
     "data": {
      "text/plain": [
       "int"
      ]
     },
     "execution_count": 4,
     "metadata": {},
     "output_type": "execute_result"
    }
   ],
   "source": [
    "type(1)"
   ]
  },
  {
   "cell_type": "code",
   "execution_count": 5,
   "metadata": {},
   "outputs": [
    {
     "data": {
      "text/plain": [
       "float"
      ]
     },
     "execution_count": 5,
     "metadata": {},
     "output_type": "execute_result"
    }
   ],
   "source": [
    " type(20.4)"
   ]
  },
  {
   "cell_type": "code",
   "execution_count": 6,
   "metadata": {},
   "outputs": [
    {
     "data": {
      "text/plain": [
       "bool"
      ]
     },
     "execution_count": 6,
     "metadata": {},
     "output_type": "execute_result"
    }
   ],
   "source": [
    "type(True)"
   ]
  },
  {
   "cell_type": "code",
   "execution_count": 7,
   "metadata": {},
   "outputs": [
    {
     "data": {
      "text/plain": [
       "str"
      ]
     },
     "execution_count": 7,
     "metadata": {},
     "output_type": "execute_result"
    }
   ],
   "source": [
    "type(\"boolean\")\n"
   ]
  },
  {
   "cell_type": "markdown",
   "metadata": {},
   "source": [
    "# String"
   ]
  },
  {
   "cell_type": "code",
   "execution_count": 11,
   "metadata": {},
   "outputs": [
    {
     "name": "stdout",
     "output_type": "stream",
     "text": [
      "fist name\n",
      "last name\n"
     ]
    }
   ],
   "source": [
    " #both '' and \"\" can be used.\n",
    "    \n",
    "    \n",
    "a=\"fist name\"\n",
    "b='last name'\n",
    "print(a)\n",
    "print(b)"
   ]
  },
  {
   "cell_type": "markdown",
   "metadata": {},
   "source": [
    "# Variable Assignment"
   ]
  },
  {
   "cell_type": "code",
   "execution_count": 1,
   "metadata": {},
   "outputs": [],
   "source": [
    "#Syntax- Variable_name=Value\n",
    "\n",
    "a='Shilpi'"
   ]
  },
  {
   "cell_type": "code",
   "execution_count": 2,
   "metadata": {},
   "outputs": [],
   "source": [
    "b=10\n"
   ]
  },
  {
   "cell_type": "code",
   "execution_count": 3,
   "metadata": {},
   "outputs": [
    {
     "name": "stdout",
     "output_type": "stream",
     "text": [
      "ShilpiShilpiShilpiShilpiShilpiShilpiShilpiShilpiShilpiShilpi\n"
     ]
    }
   ],
   "source": [
    "print(a*b)\n"
   ]
  },
  {
   "cell_type": "markdown",
   "metadata": {},
   "source": [
    "### Mathematical Operations follows BODMAS"
   ]
  },
  {
   "cell_type": "markdown",
   "metadata": {},
   "source": [
    "### Built-in Functions\n",
    "  - format\n",
    "  - len\n",
    "  - type\n",
    "  "
   ]
  },
  {
   "cell_type": "code",
   "execution_count": 8,
   "metadata": {},
   "outputs": [
    {
     "name": "stdout",
     "output_type": "stream",
     "text": [
      "My first name is Shilpi and last name is Gupta\n"
     ]
    }
   ],
   "source": [
    "#format \n",
    "\n",
    "first_name='Shilpi'\n",
    "last_name='Gupta'\n",
    "\n",
    "print(\"My first name is {} and last name is {} .\".format(first_name,last_name))"
   ]
  },
  {
   "cell_type": "code",
   "execution_count": 9,
   "metadata": {},
   "outputs": [
    {
     "name": "stdout",
     "output_type": "stream",
     "text": [
      "My first name is Shilpi and last name is Gupta .\n"
     ]
    }
   ],
   "source": [
    "print(\"My first name is {first} and last name is {last} .\".format(last=last_name,first=first_name))"
   ]
  },
  {
   "cell_type": "code",
   "execution_count": 10,
   "metadata": {},
   "outputs": [
    {
     "data": {
      "text/plain": [
       "12"
      ]
     },
     "execution_count": 10,
     "metadata": {},
     "output_type": "execute_result"
    }
   ],
   "source": [
    "#len(Calculates space)\n",
    "\n",
    "len('Shilpi Gupta')"
   ]
  },
  {
   "cell_type": "code",
   "execution_count": null,
   "metadata": {},
   "outputs": [],
   "source": []
  }
 ],
 "metadata": {
  "kernelspec": {
   "display_name": "Python 3",
   "language": "python",
   "name": "python3"
  },
  "language_info": {
   "codemirror_mode": {
    "name": "ipython",
    "version": 3
   },
   "file_extension": ".py",
   "mimetype": "text/x-python",
   "name": "python",
   "nbconvert_exporter": "python",
   "pygments_lexer": "ipython3",
   "version": "3.7.3"
  }
 },
 "nbformat": 4,
 "nbformat_minor": 2
}
